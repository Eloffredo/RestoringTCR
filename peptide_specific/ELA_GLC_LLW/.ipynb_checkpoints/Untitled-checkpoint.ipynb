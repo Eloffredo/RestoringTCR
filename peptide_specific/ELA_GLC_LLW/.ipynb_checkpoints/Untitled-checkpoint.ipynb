{
 "cells": [
  {
   "cell_type": "code",
   "execution_count": 1,
   "id": "a4809781-fb05-4617-a75b-831afc38f54a",
   "metadata": {
    "tags": []
   },
   "outputs": [],
   "source": [
    "import pandas as pd"
   ]
  },
  {
   "cell_type": "code",
   "execution_count": 3,
   "id": "c05f4120-29d0-45ba-936c-cc4de048f7aa",
   "metadata": {
    "tags": []
   },
   "outputs": [],
   "source": [
    "df1 = pd.read_csv('./Binders_GLCTLVAML.csv').drop_duplicates()\n",
    "df2 = pd.read_csv('./Binders_AMFWSVPTV.csv').drop_duplicates()\n",
    "df3 = pd.read_csv('./Binders_VTEHDTLLY.csv').drop_duplicates()"
   ]
  },
  {
   "cell_type": "code",
   "execution_count": 5,
   "id": "eb8c6708-660b-48d1-8c82-e46874deb442",
   "metadata": {
    "tags": []
   },
   "outputs": [],
   "source": [
    "tot = len(df1)+len(df2)+len(df3)"
   ]
  },
  {
   "cell_type": "code",
   "execution_count": 6,
   "id": "6f20bd27-4add-46de-96f1-122d2637eaed",
   "metadata": {
    "tags": []
   },
   "outputs": [],
   "source": [
    "perc1 = len(df1)/tot\n",
    "perc2 = len(df2)/tot\n",
    "perc3 = len(df3)/tot"
   ]
  },
  {
   "cell_type": "code",
   "execution_count": 7,
   "id": "8628c7c0-9c26-498d-912c-913afc9527c7",
   "metadata": {
    "tags": []
   },
   "outputs": [
    {
     "name": "stdout",
     "output_type": "stream",
     "text": [
      "0.955125318925409 0.014858171994597028 0.030016509079993998\n"
     ]
    }
   ],
   "source": [
    "print(perc1,perc2,perc3)"
   ]
  },
  {
   "cell_type": "code",
   "execution_count": null,
   "id": "d4d9a931-928b-48dc-ac80-a41fb68011b8",
   "metadata": {},
   "outputs": [],
   "source": []
  }
 ],
 "metadata": {
  "kernelspec": {
   "display_name": "Python 3 (ipykernel)",
   "language": "python",
   "name": "python3"
  },
  "language_info": {
   "codemirror_mode": {
    "name": "ipython",
    "version": 3
   },
   "file_extension": ".py",
   "mimetype": "text/x-python",
   "name": "python",
   "nbconvert_exporter": "python",
   "pygments_lexer": "ipython3",
   "version": "3.9.18"
  }
 },
 "nbformat": 4,
 "nbformat_minor": 5
}
